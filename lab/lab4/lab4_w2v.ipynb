{
 "cells": [
  {
   "cell_type": "markdown",
   "metadata": {},
   "source": [
    "## CS310 Natural Language Processing\n",
    "## Lab 4 (part 2): Data preparation for implementing word2vec\n",
    "\n",
    "skipgram architecture and negative sampling method"
   ]
  },
  {
   "cell_type": "code",
   "execution_count": 15,
   "metadata": {},
   "outputs": [],
   "source": [
    "from typing import List\n",
    "from pprint import pprint\n",
    "from utils import CorpusReader\n",
    "import torch\n",
    "import torch.nn as nn\n",
    "import torch.nn.functional as F\n",
    "import numpy as np"
   ]
  },
  {
   "cell_type": "code",
   "execution_count": 16,
   "metadata": {},
   "outputs": [
    {
     "name": "stdout",
     "output_type": "stream",
     "text": [
      "Total vocabulary: 1352\n"
     ]
    }
   ],
   "source": [
    "# We set min_count=1 to include all words in the corpus\n",
    "corpus = CorpusReader(inputFileName=\"lunyu_20chapters.txt\", min_count=1)"
   ]
  },
  {
   "cell_type": "code",
   "execution_count": 17,
   "metadata": {},
   "outputs": [
    {
     "name": "stdout",
     "output_type": "stream",
     "text": [
      "1\n",
      "子\n",
      "1352\n"
     ]
    }
   ],
   "source": [
    "print(corpus.word2id[\"子\"])\n",
    "print(corpus.id2word[1])\n",
    "print(len(corpus.id2word))"
   ]
  },
  {
   "cell_type": "markdown",
   "metadata": {},
   "source": [
    "## Efficient way for negative sampling\n",
    "\n",
    "In `utils.CorpusReader` class, we have implemented a method `initTableNegatives`. It creates a list of words (`self.negatives`) with a size of 1e8. This size is set a large value so that it scales up to very large corpus. \n",
    "\n",
    "The list contains the index of each word in the vocabulary, whose probability is proportional to the power of 0.75 of the word's original frequency count. \n",
    "\n"
   ]
  },
  {
   "cell_type": "code",
   "execution_count": 18,
   "metadata": {},
   "outputs": [],
   "source": [
    "# This is a simulation of how initTableNegatives works\n",
    "# The impl. in utils.py is a bit different, but the idea is the same\n",
    "word_frequency = {\"a\": 1, \"b\": 2, \"c\": 3, \"d\": 4}\n",
    "\n",
    "# the scaled sum of frequencies Z = 1**0.75 + 2**0.75 + 3**0.75 + 4**0.75 = 7.7897270\n",
    "# then the scaled probability of a = 1**0.75 / Z = 0.12837420128374202\n",
    "# the scaled probability of b = 2**0.75 / Z = 0.21589881215898812\n",
    "# the scaled probability of c = 3**0.75 / Z = 0.29262990292629903\n",
    "# the scaled probability of d = 4**0.75 / Z = 0.3630970836309708\n",
    "\n",
    "def initTableNegatives():\n",
    "    pow_frequency = np.array(list(word_frequency.values())) ** 0.75\n",
    "    words_pow = sum(pow_frequency)\n",
    "    ratio = pow_frequency / words_pow\n",
    "    count = np.round(ratio * CorpusReader.NEGATIVE_TABLE_SIZE)\n",
    "    negatives = []\n",
    "    for wid, c in enumerate(count):\n",
    "        negatives += [wid] * int(c)\n",
    "    negatives = np.array(negatives)\n",
    "    np.random.shuffle(negatives)\n",
    "    return negatives\n",
    "\n",
    "negatives = initTableNegatives()"
   ]
  },
  {
   "cell_type": "code",
   "execution_count": 19,
   "metadata": {},
   "outputs": [
    {
     "name": "stdout",
     "output_type": "stream",
     "text": [
      "99999999\n",
      "{0, 1, 2, 3}\n",
      "0.12837420128374202\n",
      "0.21589881215898812\n",
      "0.29262990292629903\n",
      "0.3630970836309708\n"
     ]
    }
   ],
   "source": [
    "print(len(negatives))\n",
    "print(set(negatives)) # the word indices: a -> 0, b -> 1, c -> 2, d -> 3\n",
    "print(np.sum(negatives == 0) / len(negatives)) # should be the scaled probability of a\n",
    "print(np.sum(negatives == 1) / len(negatives)) # should be the scaled probability of b\n",
    "print(np.sum(negatives == 2) / len(negatives)) # should be the scaled probability of c\n",
    "print(np.sum(negatives == 3) / len(negatives)) # should be the scaled probability of d"
   ]
  },
  {
   "cell_type": "markdown",
   "metadata": {},
   "source": [
    "Next, the `getNegatives` method returns the negative samples for a target word. The idea is to chop off a segment of given `size` from the `negatives` list. \n",
    "\n",
    "If the segment contains the target word, it is discarded and a new segment is taken. This is done to avoid the target word itself to be sampled as a negative."
   ]
  },
  {
   "cell_type": "code",
   "execution_count": 20,
   "metadata": {},
   "outputs": [
    {
     "data": {
      "text/plain": [
       "array([ 87,  40, 528, 243, 275])"
      ]
     },
     "execution_count": 20,
     "metadata": {},
     "output_type": "execute_result"
    }
   ],
   "source": [
    "# Test some examples\n",
    "corpus.getNegatives(target=1, size=5)"
   ]
  },
  {
   "cell_type": "markdown",
   "metadata": {},
   "source": [
    "## T1. Generate data for training\n",
    "\n",
    "Now we are going to implement the sliding window to generate center, outside, and negative words for each position in a sentence.\n",
    "\n",
    "- It takes a list of words as input and go through each word as a center word.\n",
    "- For each center word, both the left and right `window_size` words are considered as outside words. This number is smaller near the two ends of the sentence.\n",
    "- Call `corpus.getNegatives` to get negative samples for each center word."
   ]
  },
  {
   "cell_type": "code",
   "execution_count": 21,
   "metadata": {},
   "outputs": [],
   "source": [
    "def generate_data(words: List[str], window_size: int, k: int, corpus: CorpusReader):\n",
    "    \"\"\" Generate the training data for word2vec skip-gram model\n",
    "    Args:\n",
    "        text: the input text\n",
    "        window_size: the size of the context window\n",
    "        k: the number of negative samples\n",
    "        corpus: the corpus object, providing utilities such as word2id, getNegatives, etc.\n",
    "    \"\"\"\n",
    "    ### START YOUR CODE ###\n",
    "    word_ids = [corpus.word2id[word] for word in words]\n",
    "    \n",
    "    for i, center in enumerate(word_ids):\n",
    "        # 对每个中心词获取上下文窗口内的词\n",
    "        start = max(0, i - window_size)\n",
    "        end = min(len(word_ids), i + window_size + 1)\n",
    "        \n",
    "        outside_words = word_ids[start:i] + word_ids[i+1:end]\n",
    "        neg_samples = corpus.getNegatives(center, k)\n",
    "        \n",
    "        for outside in outside_words:\n",
    "            yield center, outside, neg_samples\n",
    "    ### END YOUR CODE ###"
   ]
  },
  {
   "cell_type": "code",
   "execution_count": 22,
   "metadata": {},
   "outputs": [
    {
     "name": "stdout",
     "output_type": "stream",
     "text": [
      "words: ['学', '而', '时', '习', '之']\n",
      "word ids: [46, 8, 224, 544, 5]\n",
      "\n",
      "When window size is 3, for center word 学 -> 46\n",
      "the outside words are: \n",
      "而 -> 8\n",
      "时 -> 224\n",
      "习 -> 544\n",
      "\n",
      "output from generate_data:\n",
      "[(46, 8, array([ 29,  63, 210, 256,   4])),\n",
      " (46, 224, array([ 29,  63, 210, 256,   4])),\n",
      " (46, 544, array([ 29,  63, 210, 256,   4]))]\n"
     ]
    }
   ],
   "source": [
    "# Test generate_data\n",
    "text = \"学而时习之\"\n",
    "words = list(text)\n",
    "print('words:', words)\n",
    "print('word ids:', [corpus.word2id[word] for word in words])\n",
    "\n",
    "# first center word is 学\n",
    "print()\n",
    "print(f'When window size is 3, for center word 学 -> {corpus.word2id[\"学\"]}')\n",
    "print(f'the outside words are: ')\n",
    "print(f'而 -> {corpus.word2id[\"而\"]}')\n",
    "print(f'时 -> {corpus.word2id[\"时\"]}')\n",
    "print(f'习 -> {corpus.word2id[\"习\"]}')\n",
    "\n",
    "print()\n",
    "print('output from generate_data:')\n",
    "data = list(generate_data(list(text), window_size=3, k=5, corpus=corpus))\n",
    "pprint(data[:3])\n",
    "\n",
    "\n",
    "### You are expected to see the following output:\n",
    "### Note that the negative samples are random, so you may see different numbers\n",
    "# words: ['学', '而', '时', '习', '之']\n",
    "# word ids: [46, 8, 224, 544, 5]\n",
    "\n",
    "# When window size is 3, for center word 学 -> 46\n",
    "# the outside words are: \n",
    "# 而 -> 8\n",
    "# 时 -> 224\n",
    "# 习 -> 544\n",
    "\n",
    "# output from generate_data:\n",
    "# [(46, 8, array([354,   3, 831, 570,  27])),\n",
    "#  (46, 224, array([1077, 1095,   89,  340,   92])),\n",
    "#  (46, 544, array([ 49, 488,   4, 269,  30]))]"
   ]
  },
  {
   "cell_type": "markdown",
   "metadata": {},
   "source": [
    "However, the above data are not in batch. We want all center words are batched into a tensor of dimension `batch_size`; same for the outside words and negative samples.\n",
    "\n",
    "For example, in \"学而时习之\", if `batch_size` is 4, then the returned batch[0] will contain three tensors. \n",
    "- The first tensor contains center words, i.e., 3 \"学\" plus 1 \"而\" => [46, 46, 46, 8]\n",
    "- The second tensor contains the correponding outside words, i.e., \"而\", \"时\", and \"习\" for \"学\"; \"学\" for \"而\" => [8, 224, 544,  46]\n",
    "- The third tensor contains the negative samples, whose dimension is `batch_size` $\\times$ `k`\n",
    "  \n",
    "The data type of the tensors is `torch.long`."
   ]
  },
  {
   "cell_type": "code",
   "execution_count": 23,
   "metadata": {},
   "outputs": [],
   "source": [
    "def batchify(data: List, batch_size: int):\n",
    "    \"\"\" Group a stream into batches and yield them as torch tensors.\n",
    "    Args:\n",
    "        data: a list of tuples\n",
    "        batch_size: the batch size \n",
    "    Yields:\n",
    "        a tuple of three torch tensors: center, outside, negative\n",
    "    \"\"\"\n",
    "    assert batch_size < len(data) # data should be long enough\n",
    "    for i in range(0, len(data), batch_size):\n",
    "        batch = data[i:i + batch_size]\n",
    "        if i > len(data) - batch_size: # if the last batch is smaller than batch_size, pad it with the first few data\n",
    "            batch = batch + data[:i + batch_size - len(data)]\n",
    "        \n",
    "        centers = []\n",
    "        outsides = []\n",
    "        negatives = []\n",
    "        \n",
    "        for center, outside, negative in batch:\n",
    "            centers.append(center)\n",
    "            outsides.append(outside)\n",
    "            negatives.append(negative)\n",
    "        \n",
    "        # 使用yield而不是return\n",
    "        yield (torch.tensor(centers, dtype=torch.long),\n",
    "               torch.tensor(outsides, dtype=torch.long),\n",
    "               torch.tensor(negatives, dtype=torch.long))"
   ]
  },
  {
   "cell_type": "code",
   "execution_count": 24,
   "metadata": {},
   "outputs": [
    {
     "name": "stdout",
     "output_type": "stream",
     "text": [
      "(tensor([46, 46, 46,  8]), tensor([  8, 224, 544,  46]), tensor([[ 776,    0,  101,  237,   47],\n",
      "        [ 776,    0,  101,  237,   47],\n",
      "        [ 776,    0,  101,  237,   47],\n",
      "        [  59, 1282,  969,  870,   28]]))\n",
      "[(tensor([46, 46, 46,  8]), tensor([  8, 224, 544,  46]), tensor([[ 776,    0,  101,  237,   47],\n",
      "        [ 776,    0,  101,  237,   47],\n",
      "        [ 776,    0,  101,  237,   47],\n",
      "        [  59, 1282,  969,  870,   28]])), (tensor([  8,   8,   8, 224]), tensor([224, 544,   5,  46]), tensor([[  59, 1282,  969,  870,   28],\n",
      "        [  59, 1282,  969,  870,   28],\n",
      "        [  59, 1282,  969,  870,   28],\n",
      "        [   1,    7, 1051,  293,    1]])), (tensor([224, 224, 224, 544]), tensor([  8, 544,   5,  46]), tensor([[   1,    7, 1051,  293,    1],\n",
      "        [   1,    7, 1051,  293,    1],\n",
      "        [   1,    7, 1051,  293,    1],\n",
      "        [   2,  169,   14,    1,  137]])), (tensor([544, 544, 544,   5]), tensor([  8, 224,   5,   8]), tensor([[  2, 169,  14,   1, 137],\n",
      "        [  2, 169,  14,   1, 137],\n",
      "        [  2, 169,  14,   1, 137],\n",
      "        [ 28,   1, 343,   9,  90]])), (tensor([ 5,  5, 46, 46]), tensor([224, 544,   8, 224]), tensor([[ 28,   1, 343,   9,  90],\n",
      "        [ 28,   1, 343,   9,  90],\n",
      "        [776,   0, 101, 237,  47],\n",
      "        [776,   0, 101, 237,  47]]))]\n"
     ]
    }
   ],
   "source": [
    "# Test batchify\n",
    "\n",
    "text = \"学而时习之\"\n",
    "words = list(text)\n",
    "data = list(generate_data(words, window_size=3, k=5, corpus=corpus))\n",
    "\n",
    "batches = list(batchify(data, batch_size=4))\n",
    "print(batches[0])\n",
    "\n",
    "print(batches)\n",
    "### You are expected to see the following output:\n",
    "### Note that the negative samples are random, so you may see different numbers\n",
    "# (tensor([46, 46, 46,  8]), tensor([  8, 224, 544,  46]), tensor([[  85,    3,   72,   26,   35],\n",
    "#         [   7,    1,  487,   20,    4],\n",
    "#         [  12,  227,    2,   25,  639],\n",
    "#         [ 582,  148,   15, 1203,   85]]))"
   ]
  },
  {
   "cell_type": "markdown",
   "metadata": {},
   "source": [
    "## T2. Implement the SkipGram class\n",
    "\n",
    "`SkipGram` is a subclass of `nn.Module`. The two key components are:\n",
    "- `__init__`: initialize the embeddings\n",
    "  - Two `nn.Embedding` objects are created: `self.emb_v` for center words; `self.emb_u` for outside words and negative samples.\n",
    "  - Each `nn.Embedding` is created with `vocab_size` and `emb_dim` as input arguments. \n",
    "  - `self.emb_v` is initialized with uniform distribution; `self.emb_u` is initialized with zeros.\n",
    "- `forward`: given input tensors, return the loss of the model\n",
    "  - Takes three tensors as input: center words, outside words, and negative samples. They are the output from the previously defined `batchify` function.\n",
    "  - Compute the loss using the formula: $-\\log\\sigma(v_c \\cdot u_o) - \\sum_{k=1}^K \\log\\sigma(-v_c \\cdot u_k)$\n",
    "\n",
    "*Hint*:\n",
    "- For the $\\log\\sigma$ function, you can use `F.logsigmoid` in PyTorch. See the imported module: `import torch.nn.functional as F`\n",
    "- If the input to `F.logsigmoid` is too large, it will return 0, which is not good for training. You can use `torch.clamp` to limit the input to a certain range. For example, `torch.clamp(x, min=-10, max=10)` will limit the input to be in the range of $[-10, 10]$."
   ]
  },
  {
   "cell_type": "code",
   "execution_count": 25,
   "metadata": {},
   "outputs": [],
   "source": [
    "class SkipGram(nn.Module):\n",
    "    def __init__(self, vocab_size, emb_size):\n",
    "        super(SkipGram, self).__init__()\n",
    "        self.vocab_size = vocab_size\n",
    "        self.emb_size = emb_size\n",
    "        self.emb_v = nn.Embedding(vocab_size, emb_size, sparse=True)\n",
    "        self.emb_u = nn.Embedding(vocab_size, emb_size, sparse=True)\n",
    "\n",
    "        initrange = 1.0 / self.emb_size # some experience passed down from generation to generation\n",
    "        nn.init.uniform_(self.emb_v.weight.data, -initrange, initrange) # same outcome as self.emb_v.weight.data.uniform_(-initrange, initrange)\n",
    "        nn.init.constant_(self.emb_u.weight.data, 0) # same outcome as self.emb_u.weight.data.zero_()\n",
    "\n",
    "    def forward(self, center, outside, negative):\n",
    "        \"\"\"\n",
    "        Args:\n",
    "            center: the center word indices (B, )\n",
    "            outside: the outside word indices (B, )\n",
    "            negative: the negative word indices (B, k)\n",
    "        \"\"\"\n",
    "        v_c = self.emb_v(center)\n",
    "        u_o = self.emb_u(outside)\n",
    "        u_n = self.emb_u(negative)\n",
    "        \n",
    "        ### START YOUR CODE ###\n",
    "        # 计算正样本的得分\n",
    "        pos_score = torch.sum(v_c * u_o, dim=1)  # (B,)\n",
    "        pos_score = torch.clamp(pos_score, min=-10, max=10)\n",
    "        pos_loss = F.logsigmoid(pos_score)\n",
    "        \n",
    "        # 计算负样本的得分\n",
    "        neg_score = torch.bmm(u_n, v_c.unsqueeze(2)).squeeze()  # (B, k)\n",
    "        neg_score = torch.clamp(neg_score, min=-10, max=10)\n",
    "        neg_loss = F.logsigmoid(-neg_score).sum(1)  # 对k个负样本求和\n",
    "        \n",
    "        # 总损失\n",
    "        loss = -(pos_loss + neg_loss)\n",
    "        \n",
    "        return loss     \n",
    "        ### END YOUR CODE ###\n",
    "\n",
    "    \n",
    "    def save_embedding(self, id2word, file_name):\n",
    "        embedding = self.emb_v.weight.cpu().data.numpy()\n",
    "        with open(file_name, 'w') as f:\n",
    "            f.write('%d %d\\n' % (len(id2word), self.emb_size))\n",
    "            for wid, w in id2word.items():\n",
    "                e = ' '.join(map(lambda x: str(x), embedding[wid]))\n",
    "                f.write('%s %s\\n' % (w, e))"
   ]
  },
  {
   "cell_type": "code",
   "execution_count": 26,
   "metadata": {},
   "outputs": [
    {
     "name": "stdout",
     "output_type": "stream",
     "text": [
      "tensor([4.1814, 4.2008, 4.2172, 4.2307, 4.2414])\n"
     ]
    }
   ],
   "source": [
    "# Test the model\n",
    "vacob_size =len(corpus.id2word)\n",
    "emb_size = 32\n",
    "model = SkipGram(vacob_size, emb_size)\n",
    "\n",
    "weight = torch.empty(vacob_size, emb_size)\n",
    "start_value = 0.01\n",
    "for i in range(vacob_size):\n",
    "    weight[i] = start_value + i * 0.01\n",
    "\n",
    "model.emb_v.weight.data.copy_(weight)\n",
    "model.emb_u.weight.data.copy_(weight)\n",
    "\n",
    "# Test the model\n",
    "center = torch.tensor([0, 1, 2, 3, 4])\n",
    "outside = torch.tensor([0, 1, 2, 3, 4])\n",
    "negative = torch.tensor([[0, 1, 2, 3, 4], [0, 1, 2, 3, 4], [0, 1, 2, 3, 4], [0, 1, 2, 3, 4], [0, 1, 2, 3, 4]])\n",
    "with torch.no_grad():\n",
    "    loss = model(center, outside, negative)\n",
    "print(loss)\n",
    "\n",
    "\n",
    "### You are expected to see the following output:\n",
    "# tensor([4.1814, 4.2008, 4.2172, 4.2307, 4.2414])\n"
   ]
  },
  {
   "cell_type": "code",
   "execution_count": 27,
   "metadata": {},
   "outputs": [
    {
     "name": "stdout",
     "output_type": "stream",
     "text": [
      "开始训练...\n",
      "Epoch 1, Average Loss: 3.0877\n",
      "Epoch 2, Average Loss: 2.6403\n",
      "Epoch 3, Average Loss: 2.4554\n",
      "Epoch 4, Average Loss: 2.2916\n",
      "Epoch 5, Average Loss: 2.1518\n",
      "Epoch 6, Average Loss: 2.0441\n",
      "Epoch 7, Average Loss: 1.9662\n",
      "Epoch 8, Average Loss: 1.9093\n",
      "Epoch 9, Average Loss: 1.8679\n",
      "Epoch 10, Average Loss: 1.8379\n",
      "\n",
      "训练完成！\n"
     ]
    },
    {
     "name": "stderr",
     "output_type": "stream",
     "text": [
      "/var/folders/_4/v6wmn5j14xb7tmgnzj8yt_4c0000gn/T/ipykernel_88684/602961008.py:28: UserWarning: Glyph 23398 (\\N{CJK UNIFIED IDEOGRAPH-5B66}) missing from current font.\n",
      "  plt.savefig('lab4_embeddings.png', dpi=300, bbox_inches='tight')\n",
      "/var/folders/_4/v6wmn5j14xb7tmgnzj8yt_4c0000gn/T/ipykernel_88684/602961008.py:28: UserWarning: Glyph 20064 (\\N{CJK UNIFIED IDEOGRAPH-4E60}) missing from current font.\n",
      "  plt.savefig('lab4_embeddings.png', dpi=300, bbox_inches='tight')\n",
      "/var/folders/_4/v6wmn5j14xb7tmgnzj8yt_4c0000gn/T/ipykernel_88684/602961008.py:28: UserWarning: Glyph 26352 (\\N{CJK UNIFIED IDEOGRAPH-66F0}) missing from current font.\n",
      "  plt.savefig('lab4_embeddings.png', dpi=300, bbox_inches='tight')\n",
      "/var/folders/_4/v6wmn5j14xb7tmgnzj8yt_4c0000gn/T/ipykernel_88684/602961008.py:28: UserWarning: Glyph 23376 (\\N{CJK UNIFIED IDEOGRAPH-5B50}) missing from current font.\n",
      "  plt.savefig('lab4_embeddings.png', dpi=300, bbox_inches='tight')\n",
      "/var/folders/_4/v6wmn5j14xb7tmgnzj8yt_4c0000gn/T/ipykernel_88684/602961008.py:28: UserWarning: Glyph 20154 (\\N{CJK UNIFIED IDEOGRAPH-4EBA}) missing from current font.\n",
      "  plt.savefig('lab4_embeddings.png', dpi=300, bbox_inches='tight')\n",
      "/var/folders/_4/v6wmn5j14xb7tmgnzj8yt_4c0000gn/T/ipykernel_88684/602961008.py:28: UserWarning: Glyph 20161 (\\N{CJK UNIFIED IDEOGRAPH-4EC1}) missing from current font.\n",
      "  plt.savefig('lab4_embeddings.png', dpi=300, bbox_inches='tight')\n",
      "/Users/sco/miniconda3/envs/myenv/lib/python3.12/site-packages/IPython/core/pylabtools.py:152: UserWarning: Glyph 23398 (\\N{CJK UNIFIED IDEOGRAPH-5B66}) missing from current font.\n",
      "  fig.canvas.print_figure(bytes_io, **kw)\n",
      "/Users/sco/miniconda3/envs/myenv/lib/python3.12/site-packages/IPython/core/pylabtools.py:152: UserWarning: Glyph 20064 (\\N{CJK UNIFIED IDEOGRAPH-4E60}) missing from current font.\n",
      "  fig.canvas.print_figure(bytes_io, **kw)\n",
      "/Users/sco/miniconda3/envs/myenv/lib/python3.12/site-packages/IPython/core/pylabtools.py:152: UserWarning: Glyph 26352 (\\N{CJK UNIFIED IDEOGRAPH-66F0}) missing from current font.\n",
      "  fig.canvas.print_figure(bytes_io, **kw)\n",
      "/Users/sco/miniconda3/envs/myenv/lib/python3.12/site-packages/IPython/core/pylabtools.py:152: UserWarning: Glyph 23376 (\\N{CJK UNIFIED IDEOGRAPH-5B50}) missing from current font.\n",
      "  fig.canvas.print_figure(bytes_io, **kw)\n",
      "/Users/sco/miniconda3/envs/myenv/lib/python3.12/site-packages/IPython/core/pylabtools.py:152: UserWarning: Glyph 20154 (\\N{CJK UNIFIED IDEOGRAPH-4EBA}) missing from current font.\n",
      "  fig.canvas.print_figure(bytes_io, **kw)\n",
      "/Users/sco/miniconda3/envs/myenv/lib/python3.12/site-packages/IPython/core/pylabtools.py:152: UserWarning: Glyph 20161 (\\N{CJK UNIFIED IDEOGRAPH-4EC1}) missing from current font.\n",
      "  fig.canvas.print_figure(bytes_io, **kw)\n"
     ]
    },
    {
     "data": {
      "image/png": "[encoded data removed]",
      "text/plain": [
       "<Figure size 1000x800 with 1 Axes>"
      ]
     },
     "metadata": {},
     "output_type": "display_data"
    },
    {
     "name": "stdout",
     "output_type": "stream",
     "text": [
      "\n",
      "解释方差比: 0.0895\n",
      "词对相似度分析：\n",
      "学-习: 0.2292\n",
      "子-曰: 0.4987\n",
      "人-仁: 0.1127\n"
     ]
    }
   ],
   "source": [
    "# 在notebook最后添加以下代码\n",
    "\n",
    "import matplotlib.pyplot as plt\n",
    "from sklearn.decomposition import TruncatedSVD\n",
    "\n",
    "def visualize_embeddings(model, corpus, target_words=['学', '习', '曰', '子', '人', '仁']):\n",
    "    \"\"\"可视化词嵌入\"\"\"\n",
    "    # 获取词嵌入\n",
    "    embeddings = model.emb_v.weight.detach().cpu().numpy()\n",
    "    \n",
    "    # 使用TruncatedSVD降维到2维\n",
    "    svd = TruncatedSVD(n_components=2)\n",
    "    embeddings_2d = svd.fit_transform(embeddings)\n",
    "    \n",
    "    # 创建图形\n",
    "    plt.figure(figsize=(10, 8))\n",
    "    \n",
    "    # 绘制目标词\n",
    "    for word in target_words:\n",
    "        if word in corpus.word2id:\n",
    "            idx = corpus.word2id[word]\n",
    "            x, y = embeddings_2d[idx]\n",
    "            plt.scatter(x, y, marker='o')\n",
    "            plt.annotate(word, (x, y), xytext=(5, 5), textcoords='offset points')\n",
    "    \n",
    "    plt.title('Word Embeddings (LSA)')\n",
    "    plt.grid(True)\n",
    "    plt.savefig('lab4_embeddings.png', dpi=300, bbox_inches='tight')\n",
    "    plt.show()\n",
    "    \n",
    "    # 返回解释方差比\n",
    "    return svd.explained_variance_ratio_.sum()\n",
    "\n",
    "def analyze_word_pairs(model, corpus, word_pairs=[('学', '习'), ('子', '曰'), ('人', '仁')]):\n",
    "    \"\"\"分析词对之间的关系\"\"\"\n",
    "    embeddings = model.emb_v.weight.detach().cpu().numpy()\n",
    "    \n",
    "    print(\"词对相似度分析：\")\n",
    "    for word1, word2 in word_pairs:\n",
    "        if word1 in corpus.word2id and word2 in corpus.word2id:\n",
    "            idx1 = corpus.word2id[word1]\n",
    "            idx2 = corpus.word2id[word2]\n",
    "            vec1 = embeddings[idx1]\n",
    "            vec2 = embeddings[idx2]\n",
    "            \n",
    "            # 计算余弦相似度\n",
    "            similarity = np.dot(vec1, vec2) / (np.linalg.norm(vec1) * np.linalg.norm(vec2))\n",
    "            print(f\"{word1}-{word2}: {similarity:.4f}\")\n",
    "\n",
    "# 训练模型并分析结果\n",
    "vocab_size = len(corpus.id2word)\n",
    "emb_size = 100  # 使用与新实验相同的维度\n",
    "model = SkipGram(vocab_size, emb_size)\n",
    "\n",
    "# 读取文本\n",
    "with open(\"lunyu_20chapters.txt\", 'r', encoding='utf-8') as f:\n",
    "    text = f.read()\n",
    "    words = list(text.replace('\\n', '').replace(' ', ''))\n",
    "\n",
    "# 生成训练数据\n",
    "data = list(generate_data(words, window_size=3, k=5, corpus=corpus))\n",
    "\n",
    "# 训练模型\n",
    "optimizer = torch.optim.SparseAdam(model.parameters(), lr=0.01)\n",
    "batch_size = 128\n",
    "num_epochs = 10\n",
    "\n",
    "print(\"开始训练...\")\n",
    "for epoch in range(num_epochs):\n",
    "    total_loss = 0\n",
    "    batch_count = 0\n",
    "    \n",
    "    for batch in batchify(data, batch_size):\n",
    "        center, outside, negative = batch\n",
    "        optimizer.zero_grad()\n",
    "        loss = model(center, outside, negative)\n",
    "        loss.mean().backward()\n",
    "        optimizer.step()\n",
    "        \n",
    "        total_loss += loss.mean().item()\n",
    "        batch_count += 1\n",
    "        \n",
    "    avg_loss = total_loss / batch_count\n",
    "    print(f\"Epoch {epoch+1}, Average Loss: {avg_loss:.4f}\")\n",
    "\n",
    "print(\"\\n训练完成！\")\n",
    "\n",
    "# 可视化结果\n",
    "explained_variance = visualize_embeddings(model, corpus)\n",
    "print(f\"\\n解释方差比: {explained_variance:.4f}\")\n",
    "\n",
    "# 分析词对关系\n",
    "analyze_word_pairs(model, corpus)\n",
    "\n",
    "# 保存词向量\n",
    "model.save_embedding(corpus.id2word, \"lab4_embeddings.txt\")"
   ]
  }
 ],
 "metadata": {
  "kernelspec": {
   "display_name": "myenv",
   "language": "python",
   "name": "python3"
  },
  "language_info": {
   "codemirror_mode": {
    "name": "ipython",
    "version": 3
   },
   "file_extension": ".py",
   "mimetype": "text/x-python",
   "name": "python",
   "nbconvert_exporter": "python",
   "pygments_lexer": "ipython3",
   "version": "3.12.2"
  }
 },
 "nbformat": 4,
 "nbformat_minor": 2
}
